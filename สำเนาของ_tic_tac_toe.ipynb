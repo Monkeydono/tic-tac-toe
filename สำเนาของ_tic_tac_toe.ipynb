{
  "nbformat": 4,
  "nbformat_minor": 0,
  "metadata": {
    "colab": {
      "provenance": [],
      "include_colab_link": true
    },
    "kernelspec": {
      "name": "python3",
      "display_name": "Python 3"
    },
    "language_info": {
      "name": "python"
    }
  },
  "cells": [
    {
      "cell_type": "markdown",
      "metadata": {
        "id": "view-in-github",
        "colab_type": "text"
      },
      "source": [
        "<a href=\"https://colab.research.google.com/github/Monkeydono/tic-tac-toe/blob/main/%E0%B8%AA%E0%B8%B3%E0%B9%80%E0%B8%99%E0%B8%B2%E0%B8%82%E0%B8%AD%E0%B8%87_tic_tac_toe.ipynb\" target=\"_parent\"><img src=\"https://colab.research.google.com/assets/colab-badge.svg\" alt=\"Open In Colab\"/></a>"
      ]
    },
    {
      "cell_type": "markdown",
      "source": [
        "**Review our Tic-Tac-Toe**\n",
        "\n",
        "Here is a 3x3 square board for playing Tic-Tac-Toe with each cell labeled with a number as shown below.\n",
        "\n",
        "![Screenshot 2025-02-17 234731.png](data:image/png;base64,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)"
      ],
      "metadata": {
        "id": "5NRdmqDFvfa_"
      }
    },
    {
      "cell_type": "markdown",
      "source": [
        "**Some code for functions we will need**\n",
        "\n",
        "The code in the cells below are the functions we will need."
      ],
      "metadata": {
        "id": "NOHnVUX1DoB0"
      }
    },
    {
      "cell_type": "code",
      "source": [
        "def draw_board(board_state):\n",
        "  print(board_state[6] + '|' + board_state[7] + '|' + board_state[8])\n",
        "  print('-+-+-')\n",
        "  print(board_state[3] + '|' + board_state[4] + '|' + board_state[5])\n",
        "  print('-+-+-')\n",
        "  print(board_state[0] + '|' + board_state[1] + '|' + board_state[2])"
      ],
      "metadata": {
        "id": "JypPyC2jKj1Y"
      },
      "execution_count": null,
      "outputs": []
    },
    {
      "cell_type": "code",
      "source": [
        "def get_empty_cells(board_state):\n",
        "  assert(len(board_state) == 9) # make sure that there are exactly 9 cells in the board\n",
        "  empty_cells = []\n",
        "  for index in range(9):\n",
        "    if board_state[index] == ' ':\n",
        "      empty_cells.append(index)\n",
        "  return empty_cells"
      ],
      "metadata": {
        "id": "S0jXNO4byzQU"
      },
      "execution_count": null,
      "outputs": []
    },
    {
      "cell_type": "code",
      "source": [
        "def human_move(board_state):\n",
        "  while True:\n",
        "    my_move = input(\"Which cell do you want to place your X in? (0-8): \")\n",
        "    my_move = int(my_move)\n",
        "    empty_cell_list = get_empty_cells(board_state)\n",
        "    if my_move in empty_cell_list:\n",
        "      board_state[my_move] = 'X'\n",
        "      break\n",
        "    else:\n",
        "      print(\"Cannot make that move. Try again\")\n"
      ],
      "metadata": {
        "id": "WH4ICnQLyzF1"
      },
      "execution_count": null,
      "outputs": []
    },
    {
      "cell_type": "code",
      "source": [
        "import random\n",
        "\n",
        "def computer_move(board_state):\n",
        "  # you need to code this part\n",
        "  computer_move = random.randint(0, 8)\n",
        "  empty_cell_list = get_empty_cells(board_state)\n",
        "  while computer_move not in empty_cell_list:\n",
        "    computer_move = random.randint(0, 8)\n",
        "  board_state[computer_move] = 'O'"
      ],
      "metadata": {
        "id": "PyOrOUXkyy4v"
      },
      "execution_count": null,
      "outputs": []
    },
    {
      "cell_type": "code",
      "source": [
        "def is_winning(board_state):\n",
        "\n",
        "  # horizontally aligned winning\n",
        "  if board_state[0] == board_state[1] == board_state[2]:\n",
        "    if board_state[0] != ' ':\n",
        "      return True\n",
        "\n",
        "  if board_state[3] == board_state[4] == board_state[5]:\n",
        "    if board_state[3] != ' ':\n",
        "      return True\n",
        "\n",
        "  if board_state[6] == board_state[7] == board_state[8]:\n",
        "    if board_state[6] != ' ':\n",
        "      return True\n",
        "\n",
        "  # vertically aligned winning\n",
        "  if board_state[0] == board_state[3] == board_state[6]:\n",
        "    if board_state[0] != ' ':\n",
        "      return True\n",
        "\n",
        "  if board_state[1] == board_state[4] == board_state[7]:\n",
        "    if board_state[1] != ' ':\n",
        "      return True\n",
        "\n",
        "  if board_state[2] == board_state[5] == board_state[8]:\n",
        "    if board_state[2] != ' ':\n",
        "      return True\n",
        "\n",
        "  # diagnolly alinged winning\n",
        "  if board_state[0] == board_state[4] == board_state[8]:\n",
        "    if board_state[0] != ' ':\n",
        "      return True\n",
        "\n",
        "  if board_state[2] == board_state[4] == board_state[6]:\n",
        "    if board_state[2] != ' ':\n",
        "      return True\n",
        "\n",
        "  # if all the above conditions fail\n",
        "  return False"
      ],
      "metadata": {
        "id": "7_koE4rOyllO"
      },
      "execution_count": null,
      "outputs": []
    },
    {
      "cell_type": "markdown",
      "source": [
        "Let's test and run each of the above functions"
      ],
      "metadata": {
        "id": "aSJ9Fs_00dRl"
      }
    },
    {
      "cell_type": "code",
      "source": [
        "board_state = ['X', 'O', 'X', 'O', 'X', 'O', 'O', 'X', 'X']\n",
        "draw_board(board_state)"
      ],
      "metadata": {
        "id": "gIuEQrX3z6XE",
        "outputId": "4050596c-faf3-44eb-e136-15474d09ad1c",
        "colab": {
          "base_uri": "https://localhost:8080/"
        }
      },
      "execution_count": null,
      "outputs": [
        {
          "output_type": "stream",
          "name": "stdout",
          "text": [
            "O|X|X\n",
            "-+-+-\n",
            "O|X|O\n",
            "-+-+-\n",
            "X|O|X\n"
          ]
        }
      ]
    },
    {
      "cell_type": "code",
      "source": [
        "board_state = [' ', ' ', 'X', ' ', ' ', 'O', ' ', ' ', ' ']\n",
        "draw_board(board_state)"
      ],
      "metadata": {
        "id": "L-YpapIz0KqW",
        "outputId": "8268dcce-9b17-4d49-ace9-58e22be7f86e",
        "colab": {
          "base_uri": "https://localhost:8080/"
        }
      },
      "execution_count": null,
      "outputs": [
        {
          "output_type": "stream",
          "name": "stdout",
          "text": [
            " | | \n",
            "-+-+-\n",
            " | |O\n",
            "-+-+-\n",
            " | |X\n"
          ]
        }
      ]
    },
    {
      "cell_type": "code",
      "source": [
        "# Test case 1: An empty board\n",
        "board_state_empty = [' ', ' ', ' ', ' ', ' ', ' ', ' ', ' ', ' ']\n",
        "empty_cells_empty = get_empty_cells(board_state_empty)\n",
        "print(\"Test Case 1 (Empty Board): {empty_cells_empty}\", empty_cells_empty)\n",
        "\n",
        "# Test case 2: A board with some filled cells\n",
        "board_state_partial = ['X', ' ', 'O', ' ', 'X', ' ', 'O', ' ', 'X']\n",
        "empty_cells_partial = get_empty_cells(board_state_partial)\n",
        "print(\"Test Case 2 (Partial Board): {empty_cells_partial}\", empty_cells_partial)\n",
        "\n",
        "# Test case 3: A full board\n",
        "board_state_full = ['X', 'O', 'X', 'O', 'X', 'O', 'O', 'X', 'X']\n",
        "empty_cells_full = get_empty_cells(board_state_full)\n",
        "print(\"Test Case 3 (Full Board):\", empty_cells_full)\n"
      ],
      "metadata": {
        "id": "m7RfCKYv0uRZ",
        "outputId": "8840dfe9-ab13-409b-8537-1831a5bbe93c",
        "colab": {
          "base_uri": "https://localhost:8080/"
        }
      },
      "execution_count": null,
      "outputs": [
        {
          "output_type": "stream",
          "name": "stdout",
          "text": [
            "Test Case 1 (Empty Board): {empty_cells_empty} [0, 1, 2, 3, 4, 5, 6, 7, 8]\n",
            "Test Case 2 (Partial Board): {empty_cells_partial} [1, 3, 5, 7]\n",
            "Test Case 3 (Full Board): []\n"
          ]
        }
      ]
    },
    {
      "cell_type": "code",
      "source": [
        "# Test the human_move function\n",
        "board_state = [' ', ' ', 'X', ' ', ' ', 'O', ' ', ' ', ' ']\n",
        "empty_cells = get_empty_cells(board_state)\n",
        "human_move(board_state)\n",
        "draw_board(board_state)"
      ],
      "metadata": {
        "id": "-wyI---W3czh",
        "outputId": "13c87ab6-ce27-46af-d118-83eaad9a3aad",
        "colab": {
          "base_uri": "https://localhost:8080/"
        }
      },
      "execution_count": null,
      "outputs": [
        {
          "output_type": "stream",
          "name": "stdout",
          "text": [
            "Which cell do you want to place your X in? (0-8): 0\n",
            " | | \n",
            "-+-+-\n",
            " | |O\n",
            "-+-+-\n",
            "X| |X\n"
          ]
        }
      ]
    },
    {
      "cell_type": "code",
      "source": [
        "# Test the computer_move function\n",
        "empty_cells = get_empty_cells(board_state)\n",
        "computer_move(board_state)\n",
        "draw_board(board_state)"
      ],
      "metadata": {
        "id": "7ERGXnRW4TN_",
        "outputId": "b76f59ec-0ff4-413f-ff99-75a6104a9272",
        "colab": {
          "base_uri": "https://localhost:8080/"
        }
      },
      "execution_count": null,
      "outputs": [
        {
          "output_type": "stream",
          "name": "stdout",
          "text": [
            " |O| \n",
            "-+-+-\n",
            " | |O\n",
            "-+-+-\n",
            "X| |X\n"
          ]
        }
      ]
    },
    {
      "cell_type": "code",
      "source": [
        "# Test case: Horizontal win for 'X'\n",
        "board_state_h_x = ['X', 'X', 'X', ' ', ' ', ' ', ' ', ' ', ' ']\n",
        "print(\"Test Case (Horizontal X Win):\", is_winning(board_state_h_x))\n",
        "\n",
        "# Test case: Vertical win for 'X'\n",
        "board_state_v_x = ['X', ' ', ' ', 'X', ' ', ' ', 'X', ' ', ' ']\n",
        "print(\"Test Case (Vertical X Win):\", is_winning(board_state_v_x))\n",
        "\n",
        "# Test case: Diagonal win for 'X' (top-left to bottom-right)\n",
        "board_state_d1_x = ['X', ' ', ' ', ' ', 'X', ' ', ' ', ' ', 'X']\n",
        "print(\"Test Case (Diagonal X Win - TL to BR):\", is_winning(board_state_d1_x))\n",
        "\n",
        "# Test case: Diagonal win for 'O' (top-right to bottom-left)\n",
        "board_state_d2_o = [' ', ' ', 'O', ' ', 'O', ' ', 'O', ' ', ' ']\n",
        "print(\"Test Case (Diagonal O Win - TR to BL):\", is_winning(board_state_d2_o))\n",
        "\n",
        "# Test case: No win, board partially filled\n",
        "board_state_no_win_partial = ['X', 'O', 'X', ' ', 'O', ' ', 'X', ' ', 'O']\n",
        "print(\"Test Case (No Win - Partial Board):\", is_winning(board_state_no_win_partial))\n",
        "\n",
        "# Test case: No win, board full (a draw)\n",
        "board_state_draw = ['X', 'O', 'X', 'O', 'X', 'X', 'O', 'X', 'O']\n",
        "print(\"Test Case (No Win - Full Board/Draw):\", is_winning(board_state_draw))\n",
        "draw_board(board_state_draw)\n",
        "\n",
        "# Test case: Empty board\n",
        "board_state_empty = [' ', ' ', ' ', ' ', ' ', ' ', ' ', ' ', ' ']\n",
        "print(\"Test Case (Empty Board):\", is_winning(board_state_empty))"
      ],
      "metadata": {
        "id": "LXHaO9ZYzN_3",
        "outputId": "e1cdd6a1-2d7e-4760-bee4-c63362934286",
        "colab": {
          "base_uri": "https://localhost:8080/"
        }
      },
      "execution_count": null,
      "outputs": [
        {
          "output_type": "stream",
          "name": "stdout",
          "text": [
            "Test Case (Horizontal X Win): True\n",
            "Test Case (Vertical X Win): True\n",
            "Test Case (Diagonal X Win - TL to BR): True\n",
            "Test Case (Diagonal O Win - TR to BL): True\n",
            "Test Case (No Win - Partial Board): False\n",
            "Test Case (No Win - Full Board/Draw): False\n",
            "O|X|O\n",
            "-+-+-\n",
            "O|X|X\n",
            "-+-+-\n",
            "X|O|X\n",
            "Test Case (Empty Board): False\n"
          ]
        }
      ]
    },
    {
      "cell_type": "markdown",
      "source": [
        "สร้าง code cell ใหม่แล้วเขียนโปรแกรมเพื่อเล่นเกมส์ Tic-Tac-Toe กับคอมพิวเตอร์ที่ยังไม่ฉลาด"
      ],
      "metadata": {
        "id": "hby1xl8PTray"
      }
    },
    {
      "cell_type": "code",
      "source": [
        "def game_start():\n",
        "  # assign empty board\n",
        "  board_state = [' '] * 9\n",
        "\n",
        "  # show initial board\n",
        "  draw_board(board_state)\n",
        "\n",
        "  # continue looping\n",
        "  while True:\n",
        "    # human move\n",
        "    human_move(board_state)\n",
        "    draw_board(board_state)\n",
        "    if is_winning(board_state):\n",
        "      print('You win!')\n",
        "      break\n",
        "    if len(get_empty_cells(board_state)) == 0:\n",
        "      print('Draw!?')\n",
        "      break\n",
        "\n",
        "    # computer move\n",
        "    computer_move(board_state)\n",
        "    print('Computer has made a move:')\n",
        "    draw_board(board_state)\n",
        "    if is_winning(board_state):\n",
        "      print('Computer Wins.')\n",
        "      break\n",
        "    if len(get_empty_cells(board_state)) == 0:\n",
        "      print('Draw T-T')\n",
        "      break\n"
      ],
      "metadata": {
        "id": "a7KNJRxnVdcq"
      },
      "execution_count": null,
      "outputs": []
    },
    {
      "cell_type": "markdown",
      "source": [
        "ทดสอบโปรแกรมว่าทำงานได้ถูกต้อง"
      ],
      "metadata": {
        "id": "AensxcIDVJy5"
      }
    },
    {
      "cell_type": "code",
      "source": [
        "game_start()"
      ],
      "metadata": {
        "id": "I4XXcwNwcLRW"
      },
      "execution_count": null,
      "outputs": []
    },
    {
      "cell_type": "markdown",
      "source": [
        "![image.png](data:image/png;base64,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)"
      ],
      "metadata": {
        "id": "Tixew77oWjdA"
      }
    },
    {
      "cell_type": "markdown",
      "source": [
        "กลับไปแก้ไขโค้ดในฟังก์ชั่น computer_move เพื่อให้คอมพิวเตอร์ฉลาดจนไม่มีทางเล่นแพ้มนุษย์ได้ หากมีโอกาสชนะคอมพิวเตอร์จะฉวยโอกาสนั้นทันที"
      ],
      "metadata": {
        "id": "EZ2o__zTWtpp"
      }
    },
    {
      "cell_type": "code",
      "source": [
        "def computer_move(board_state):\n",
        "\n",
        "    empty_cells = get_empty_cells(board_state)\n",
        "\n",
        "    # Check if computer can win in the next move\n",
        "    for cell in empty_cells:\n",
        "        board_copy = board_state.copy()\n",
        "        board_copy[cell] = 'O'\n",
        "        if is_winning(board_copy):\n",
        "            board_state[cell] = 'O'\n",
        "            return\n",
        "\n",
        "    # Check if human can win next move -> block it\n",
        "    for cell in empty_cells:\n",
        "        board_copy = board_state.copy()\n",
        "        board_copy[cell] = 'X'\n",
        "        if is_winning(board_copy):\n",
        "            board_state[cell] = 'O'\n",
        "            return\n",
        "\n",
        "    # Otherwise, choose center if available\n",
        "    if 4 in empty_cells:\n",
        "        board_state[4] = 'O'\n",
        "        return\n",
        "\n",
        "    # Or choose a corner if available\n",
        "    corners = [0, 2, 6, 8]\n",
        "    available_corners = [c for c in corners if c in empty_cells]\n",
        "    if available_corners:\n",
        "        board_state[random.choice(available_corners)] = 'O'\n",
        "        return\n",
        "\n",
        "    # Otherwise pick any remaining side\n",
        "    board_state[random.choice(empty_cells)] = 'O'\n"
      ],
      "metadata": {
        "id": "NxM4kSNxW1GS"
      },
      "execution_count": null,
      "outputs": []
    },
    {
      "cell_type": "markdown",
      "source": [
        "ทดสอบโปรแกรมว่าทำงานได้ถูกต้องโดย computer จะต้องไม่มีทางแพ้ และถ้าชนะได้ computer จะทำทันที"
      ],
      "metadata": {
        "id": "uhQPvIteXPiY"
      }
    },
    {
      "cell_type": "markdown",
      "source": [
        "![image.png](data:image/png;base64,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)"
      ],
      "metadata": {
        "id": "wU-6P2NHXrO0"
      }
    },
    {
      "cell_type": "markdown",
      "source": [
        "![image.png](data:image/png;base64,iVBORw0KGgoAAAANSUhEUgAAAkwAAAH0CAYAAADPFXJGAAAAAXNSR0IArs4c6QAAAARnQU1BAACxjwv8YQUAAAAJcEhZcwAADsMAAA7DAcdvqGQAAECaSURBVHhe7d29jqpcw8bxa78cCtkUE0+AhAMgoZnK1oqEysRid1NOtwsSKhMrW6tpSDgAEk7ATMEdDoWHt8APRBlUdM+H/1+yct8bmeWSD71crIW/yrKsBAAAgE7/114AAACAQwQmAACAHgQmAACAHgQmAACAHgQmAACAHgSmnyIJZBiGDMNRVLQfhJQoMAwZhqEgaT8GAMDHbhSYCiWBI2fzgWQYhpwgUVFEcpyovfI3kyj4DiHEnassY/nt5dhwNS9LhXZ7OQAA/W4QmBIFzl/lz0sty1Llpiyfc00mq/bKAAAA387gwFREr9LLXFPXlNlYbrpTpS8jZY1ltbo3atsTteuN2j0c7XqqnCDY/L+jIClURNu/2/f4JMGmHieSikiBs6/XcAIlzZ6hk5et9pdqDCPQ/mpNocgxZBieFso0sxr1GoacE11ORbJt77Y4h69tt+L+NRpOdNRDd6rui/yXHGyHk21QoSQK5DiNfeEEig42WENRKGruN8dRlEQKDrbZmS7cx5s/urC9h9vAcILOXsKz99tFLmxvn6u2mfrPN6nx99t21r3Cu3NrWxrXMi/fZvv94XBNFMB3VJZldX3JK192Febt5V0lrnzbrsI4P1iex2Fl234VN5aFtirJr+K8rMrYr2ypkh1WeV5WeWhXssN9HbFfybYru113vnm+g/bFHW2OK1+Hbfh4/VaJ/cretG+/PK/ycLO8vf7mb2T7lW/blb9rd16FrW1xfokrX6pkb7bbpr7YVyU/Pl4/zw/bldd/78fteuv9YYfxwfp5HFb2yW12XrloH5cXtDffHE/5/ljIN8eC3V7/mv12bjm3vReUy7bZ+edbfS6faFseVnb7+L9qm+WVb6uSVNmnjkUKhUL54mVgYOoKGadL7Kuyw8M3723JQ/vgQz20m2/erdCSh5XdDkztN/Vtaa/brutg+anX0rV+s3wccvLQPv4gKrftboaboaWjrfn5wSYP7ZP76HB/3KZctI87yqn2hkchufkczee8cr8NKKfae0m5ZJtdcr59uOxgP/z7bUahUChfoQy+JHeJfG1r7DUv3O2Z3lj2Om8vPp891vRU1aalUfZ++WWjSxSxVtlC3sElin2xZpkWbx0tsJ/knmr3LZmWRu1lkoookNO8bGU4mqyOL6JK0jTN9fS2v3TjOI6cIPrgEsztndXeItIqG8k6uU1dPTUHfQ/Zb2c4q713dOn5Znpj2YvXxmW9Qn9nmfyX6X6lO28zAPiqBgam33qy18r/5afml+Urbgx6Pypzt/0Hn6qIHFkr6WWZN9qZ6mXcNY3M1HSe7tZN01TpH2niXDGG6QqXt/dc99lv92vvHZlTvfiZVvHmhE7+aiFff442wX22GQB8ZQMDkylvLM3+dnxkFpGcxqBga9R4M24p4pWykdVefL5sdWLAq6Qi19p+Uu9beJFr3V52LnOqsb3Qd/piHa+kcDmXax72QPw++FcPc6qx/s3rPru95lTjzhCf6L3ZwXPH/XZ2e+/omvPNffaVzf4qkRS9LmSHfw4mc9xzmwHAVzYwMEnmNFWs16MZMkUSyLFmGsXzXVhx57FGq4mC1kyhIgk0WY0UD/lmao/0PnEOZyEViYLJSuNl45KCXD3ZmVbx9h1/M5vJmp2Y0adNL1pzfalI6tl4zdls02WotecoiFozhYp6tt3gmW83Zo0yrZpBt0gUBY6s2YmtkAQyjHqGV3sfzzJfzwN227kuae90OdaqdSwURaLAeT0Kxffab5e0916uOt/cPwrthV6DQKvM18uJ69zXbTNmyQH45tqDmq4t9cybehaMNjO1Tg+8zavYt/frbWbN7GbW5GE982f7WJjvZ39tB+zu1tkMeI39emBqHu9m4mzbcHJAdWs92w/rWVTN5/hgfdn+0cyjer28Ctuv7cS6sd+oq12unUEU+wf17F5D1/Ky1dbNbKo83CxrD6r3wyoO/YN9XM9EO9GWvnLNPr6kvWXHPsu3s8xa2/nM/XZZubC9feWqbVa348Pz7UTZtfGjY/HibbbfH8ySo1Ao37H8KsuyaoeobycJZLw+qUybPUkAAAC3MfiSHAAAwE/37QNTEhgyvIWUzXZTt08OoQAAALjSz7gkBwAAcEffvocJAADg3ghMAAAAPQhMAAAAPQhMAAAAPQhMAAAAPT4xMCUK7nILgHvVCwAAHtWgwFREzubeR4YMJ9o/kAT75Y0f3z02knX8U1U3cK96AQDAIxoUmMxpqjL2JfmKmz9L4s6Vh7Zkh8rL/Y/vAgAAfEeDApO0DUdreU60/+XyJJA1GylOp6KjBwAAfHfDA9OmpykfrzQJEhVJIOdVinN6lgAAwM9wk8CkTWh6kSfLW2u8nMulawkAAPwQNwtMUqK3hWTbmVYxU9QAAMDPcaPAVChyPK3DXGkaa7SaKOieGgcAAPCt3CQwJYGl2ShWOjUluZqnL5JnEJoAAMCPMDgwFZEjbx0qnzeHeLua56HWHjeQBAAA39+gwFREjqxZJmUzWc27ayeBDGumTJlmFj1NAADgexsUmMxpqrIsNyXVdDszzp03lpc66HwCAAD4ZgYFJgAAgEfwqyzLqr0QAAAAe/QwAQAA9CAwAQAA9CAwAQAA9CAwAQAA9CAwAQAA9CAwAQAA9CAwAQAA9PjEwJQoMALd/ldT7lUvAAB4VJ8YmAAAAL4HAhMAAEAPAhMAAECPwYEpCQwZRndxomKzZqHIaT7maaGFvOb6wX7k0efXCwAAUPvEH99NFBhvei7nctsPDXKvegEAwKMa3MMEAADw0xGYAAAAehCYAAAAenziGCYAAIDvgR4mAACAHgQmAACAHgQmAACAHgQmAACAHgQmAACAHgQmAACAHgQmAACAHgQmAACAHgQmAACAHp8YmBIFhqOoaC8f6l71AgCAR3WzwJREgRzDkLEpThCp6A0tI1lme9mhe9ULAABwrhsEpkKRY8hbSS95qbIsVZa5XrSSZTlKesNNl3vVCwAAcJnBgamIJpopVJ7O5e56dUy581Sxn8mbRId/cKZ71QsAAHCpgYGp0N+ZFC6nOnUFzJ3H8rPVFeOJ7lUvAADA5YYFpiLW+sPxQq6e7Ezv/7WX97hXvQAAAFcYFpgAAAAewLDAZHoaaa2889JYovfM1tPv9vIe96oXAADgCsMCk0z9CaXZJNKpbJMEnhb2WNPOS2td7lUvAADA5QYGJsmcLhVqJssJGlP9CyWBI29hK15OD//gTPeqFwAA4FKDA5NkapqWisfSq7W9waSlV42V52njlgCXule9AAAAl/lVlmXVXvhvJAqMNz2Xc7nthwa5V70AAOBR3aCHCQAA4Gf7xB4mAACA74EeJgAAgB4EJgAAgB4EJgAAgB4EJgAAgB4EJgAAgB4EJgAAgB4EJgAAgB6fGJgSBUagpL14sHvVCwAAHtUnBiYAAIDvgcAEAADQg8AEAADQY3BgSgJDhtFdnKjYrFkocpqPeVpoIa+5frAfefT59QIAANQ+8cd3EwXGm57Ludz2Q4Pcq14AAPCoBvcwAQAA/HQEJgAAgB4EJgAAgB6fOIYJAADge6CHCQAAoAeBCQAAoAeBCQAAoAeBCQAAoAeBCQAAoAeBCQAAoAeBCQAAoAeBCQAAoAeBCQAAoMcnBqZEgeEoKtrLh7pXvQAA4FENCkxF5MgwjLo40f6BJNgvNwIlzT86MJJltpfdr96mJArk7Ooy5ASRCkIWAAA4YVBgMqepytiX5CtOp/sH3Lny0JbsUHk5l9v8ozPcq95aocgx5K2kl7xUWZYqy1wvWsmyHCWEJgAA0DIoMEnbELOW50TaZY0kkDUbKU6n6uno6XaneotooplC5elc7q4SU+48Vexn8iaNHi0AAICbBKZNj1A+XmkSJCqSQM6rFOfX9gDt3b7eQn9nUrg8HbjceSw/WzH+CQAAHLhJYNIm3LzIk+WtNV42e2+GuWm9Raz1h+ObXD3Zmd7/ay8HAACP7GaBSUr0tpBsO9MqvmUXzb3qBQAAOM+NAlOhyPG0DnOlaazRaqKgewrbBW5cr+lppLXyztyV6D2z9fS7vRwAADyymwSmJLA0G8VKp6YkV/P0RfKMYeHmLvWa+hNKs0ljIHlDEnha2GNNOy/ZAQCARzQ4MBWRI28dKp83h2K7mueh1t71N5C8V73mdKlQM1lO0LiFQKEkcOQtbMXLxm0MAAAAhgamInJkzTIpm8lq3l07CWRYM2XKNLMu7xG6V701U9O0VDyWXq3tjSstvWqsPE+HDSoHAAA/0q+yLKv2wn8jUWC86fnqG1B2uVe9AADgUQ3qYQIAAHgEn9jDBAAA8D3QwwQAANCDwAQAANCDwAQAANCDwAQAANCDwAQAANDjewSmJJBhBLrqPpUAAJzCZwsu8O8CUxJs7qp9/c+aDPYV2nCFJNjekby/7ZesO0yiYPM8191xHfh3/t15gcdWKIkCObtjzZATJCd/u3SoJDDkdB3IRaTAcXbHe9C13oWKg9fmKNj/vtiBInJkfPIHQxH9nwzjuDhRe83zDQpMkdN8E9p/cLaXG0EiuXOVZSy/Xck53LnKW9y5e0gbPpE7L1WW5Vltv2TdYVzNy1Kh3V6OryVRcJeAcK967+PfnRe4hSLaftgbMpqfcLsvvcZteoZu9dmykQSWXt+ftcw3x1sea7T2ZN06PCSBvIWvl1O/FF9EcibSnzTdHPOpnt8ng7/YFpEj6/1Zy3L72pZ6ej1drzldyl94Jx/7p/xKZfm/g5IO+LnYQYFpmsbyZSvcHBzb38mdpvW/89CW7FDlwQ/oAgDQzZymKmNfkq+4+QnnznefK/kNg84tjZ5dmdscY7qaL0PZi7fh4a4hel3IDv+cfP3RZKXxcqpmlHLnL9JrNKCnK9HfmRT+cff1mqamLyMtXk912Zj6E9paDHrOr2dQYJJcPTV6GOpvBftvnf+9Z9LI2q+w9V+ioNEL1dVleWk3ersr1HACJVFwumvwzDZc6tw2FElrPcO5WRvuojjcXoYTfLA/CiVB4xviDbZvs9ey2Q19cIwcbOMz2nDyEu3+UuO132C72qrOb86bbvxdF/pm+7a7u4tod8wEyeHrc5yo1dZi0w5Pi82PVR9si+6d1+Oaes/YFxfY7XMn2lx6aLTBCdTebJc5c180fOY533Ws/dPzonFc1sd0/RzbZaePiTO4c+XhWp7T+NBNAlmzkeL0MBBc6qzPlovOt5o733cc7JiWRlorP/Uc1ygirTJbY+/UFkj0no1kHT30W09aKR7UhlP16vRnvCRz+iI/m+nvqQ11ZP/54pz6vP4qyrKshpTYV+XH9f+HtipJlR3mu8fkx43148qXKtl+FefbZfmJ9dolrnzZVbj7m+MS+3Zl+3GVN5blsV/Zatd9bRv6y9ltiP3KtsMqP3g9eZWHm+Un6q5L/3a4bt2ekoeVbftVnNf7tSzLKs/jyrftytZ+/9elXh7G+3XLsqzyeFNHu+6zS16Fdvu56nK87y5pQ9d2iitf7XXPL11tLcvN9pR/uJ/zvPXv+jg9VUd9ntXHWr1sc/za4dG63a9vaDm33kv2xQUl9ivZdmW3694cl93tOqPdF+yL+5/zfeULnRexX8n2K9+2K3/3HHkVHtV9WcnDzTaO/c370PE615eu17kvl51vJ0rsV2qf7wNKHtqVuo6ZzXvLqe3ddZycW/LQ3n22b0vsn7HtzvpczSt/mx/OWr+/5GFVSYfFtv836Pi5SWCqN2L9pmLb9c4sNxvrcAN3HJwf7OQP/25bYr97pxw91lFXbxt6ytHzdD328RtIHtofHNQdbT9ZLln34xJ2fgAdf5Dsj4f2upsTvWsbnVNi//iNIg8ru/U6L2tD13b64IPhjHLw5hL7lZrb6aNjpauORjn5JtR5/Ha9vqHlvHov2xcXlNiv1PX8eVjZnR9m57W7XU7ui4/2483O+TPKVzkvNsFgyAdSV4n9OrQct2do6Xqd+3LZ+dYseR2obxzyjoNwo3zQrnZgqrdpdzk+VvIq9OsvKVL9XzvsaEfzOTrPxX9f8vh/lW3/73TYPKMMvCQn/d5ek0vetJCvl5eRlL0rUaL6itypPrwW09KovewCydtC9tPv9uKaOz9vDNW/akMRa5Ut5DW6xJvFmmVavH2hLski0upkF6+OLslKUr7u6iqWTG8se523F5/P/aNQM02alx7+zpT5L2qOfbxrG85kWiNl7/9Jm2ND0m6/njpWiiiQczBZwtFklR2s0+Q/t47pgcfvvdx1X9jjg/2+Y1oaZe8nL5mc49x9cWo/7vzLc/4rnRf2k9zTTzFAoreFZNuZVsOuKV3t8vMtUWBM9Pb0ojSd33Sb5Ov2kuvsJ0KcLmnr5EoCS+/PqdI0VVnW/13q9cNLrrt88EWYbqWxfp15mfDY4MC0/WBI3haS/yzXfZavhYac/z+fr/jEAbor5wS8h2Rq+uIrm/3djGlI9LawFf75gtvLfZa/eFOxebP3fV9avClRcfTBVUSOrJX0sswbx0Gql/HXerN5BPfbF/c857/ReXGxQpHjaR3mStNYo9XpWVlf00jP09vvA+ujpNYZ5Aq9Z7a68n2vItLrwtdRbvTG0io+XNjw3/vxF43P9uH26zE4MOn3k+z1m/L1NoXXvQ7rtzetNWAHXcB99pV9sNP+hbPbYE41tr9RoDSnGttdAxbrXsQma9T9LbCIV8o6Bgiezf2j0F5oEhUqolctWt+idas2FLmGfZFz9eyvFUd1z+vz/E/9RSKKtcpGan7Rj1dSuJzL3U2tqf2DU+fubrIvumSrjsG6udb208kZRH0u2Rdf6pz/NufFZZLA0mwUb3o7XM3TF8n7Dvd+czW/0yy+30+2tM47Jgu4evZPHGtFrLU9PnjfuYhpaXTFOZWvuweFf5a3ha7OJcMDkyRlC80a6dUb28oWC2Vdo+pvbdMl3Z7tURSb2RrOdbOdLnJBG6bLUGvPURC1ZqcU9Qykj7o4P8N0OdZq4hzMFCqKRIHzevTm6c633wIPX0ORBJqsRooHfZNW49v0RJPNNNe2y9rg6snOtIq3e2czS8qaaeh3o99P0my26XmVqWdfWsxmyvzngxk+1ijTqtlHXCSKAkfWbGgLVM+OOXh9UpHUM8uGHWfn1XvZvriQPdJ767hUkSjYTKu+xkX74kud89/nvDhXETny1qHyVrvmeb0tB2+yO2rO5Lx1M01vLDvrnvHm/gm1fm3OFi0UTVYavQyZWejqebRqHTuFkr91vafVX6iPLmeedONZcskvGcb/KUi03/6FFDn/p4VfHX2ZOFt7UNPlpR74ezCwKw/rWSLNgYibga/bcjAA9sTyPLSPBqH1DUiL/XrW1m492678sDGDpeO5OpdfXM5ow7bk9QC6g9dk+8czWC7YDpese3HJ490sBqmeZRjm+5mRh4MQ6+1w8NytmUTDSj0zqHPg42ads9vQem22H9azADf/vvp42JwH7ePseD+0joXNTKbd/tyeW9vzalu2r7/v+D2171rH2VXl7Hov2Bfnls1A51NtaA+wvey8OHNfNNa/9Tl/ffmc8+LDwcMftqW7HO6zxqDsvmP9jHL28XDt+dbcJu3B+DcqxxOqWmU7U3Oz/fazFoeVOGwe6x/Xm380m++o7I+1W82SK/P/Vb7dmiUX/u94vQvKr7Isq3aIAr62RIHxqqc8vf6bAr63JJDx+qRyyG17fxzOi4eRBDI8Kb7TZb/hCgWGJcUn7kv1jRGY8O3Ut+h/GThQFt8agekI58VjSQJDr0/50Wy2r+CnHosEJnwLRXRqHImtkG/TDycJDHn1nRo2Hvc44LwA/h0CEwAAQI/bzJIDAAD4wQhMAAAAPQhMAAAAPQhMAAAAPQhMAAAAPT4xMCUKjHvc3v5e9QIAgEc1KDAVkVP/Xs7mN3N2kmC/3Pjod9zu9Vtz96oXAAA8okGByZymKmNfkq+4ecddd648tCU7VP5lb90OAABwnkGBSdqGo7W85q8yJ4Gs2UhxOuTXkQEAAL6G4YFp09OUj1eaBImKJJDzKsU5PUsAAOBnuElg0iY0vciT5a01Xs7l0rUEAAB+iJsFJinR20Ky7UyrmClqAADg57hRYCoUOZ7WYa40jTVaTRR0T40DAAD4Vm4SmJLA0mwUK52aklzN0xfJMwhNAADgRxgcmIrIkbcOlc+bQ7xdzfNQa48bSAIAgO9vUGAqIkfWLJOymazm3bWTQIY1U6ZMM4ueJgAA8L0NCkzmNFVZlpuSarqdGefOG8tLHXQ+AQAAfDODAhMAAMAj+FWWZdVeCAAAgD16mAAAAHoQmAAAAHoQmAAAAHoQmAAAAHoQmAAAAHoQmAAAAHoQmAAAAHp8YmBKFBiBbv+rKfeqFwAAPKpPDEwAAADfA4EJAACgB4EJAACgx+DAlASGDKO7OFGxWbNQ5DQf87TQQl5z/WA/8ujz6wUAAKh94o/vJgqMNz2Xc7nthwa5V70AAOBRDe5hAgAA+OkITAAAAD0ITAAAAD0+cQwTAADA90APEwAAQA8CEwAAQA8CEwAAQA8CEwAAQA8CEwAAQA8CEwAAQA8CEwAAQA8CEwAAQA8CEwAAQI9PDEyJAsNRVLSXD3WvegEAwKO6WWBKokCOYcjYFCeIVPSGlpEss73s0C3rLSJnV4/hRPsHkmC/3AiUNP8IAAA8vBsEpkKRY8hbSS95qbIsVZa5XrSSZTlKesNNl9vXa05TlbEvyVecTvcPuHPloS3ZofJyLrf5RwAA4OENDkxFNNFMofJ0LnfXq2PKnaeK/UzepNGTc4F71VuHo7U8J9IucyWBrNlIcTrViY4pAADw4AYGpkJ/Z1K4PB003HksP1tdMZ7oXvXWzGmqfLzSJEhUJIGcVynO6VkCAACnDQtMRax1x3ihmqsnO9P7f+3lPe5Vb4M5TfUiT5a31njZ7MUCAAA4NCwwfWuJ3haSbWdaxVd2VQEAgIcwLDCZnkZaK+/MG4neM1tPv9vLe9yr3p1CkeNpHeZK01ij1UQBU+MAAECHYYFJpv6E0mzSGEDdkASeFvZY04svd92r3loSWJqNYqVTU5KrefoieQahCQAAnDQwMEnmdKlQM1lO0JjqXygJHHkLW/GyMX3/Aveqt4gceetQ+bw5xNvVPA+19rjhJQAAODY4MEmmpmmpeCy9WtubP1p61Vh5ng4YTH37eovIkTXLpGwmq3k38CSQYc2UKdPMoqcJAAAc+lWWZdVe+G8kCow3Pd/8RpH3qhcAADyqG/QwAQAA/Gyf2MMEAADwPdDDBAAA0IPABAAA0IPABAAA0IPABAAA0IPABAAA0IPABAAA0IPABAAA0OMTA1OiwAh0+18huVe9AADgUX1iYAIAAPgeCEwAAAA9CEwAAAA9BgemJDBkGN3FiYrNmoUip/mYp4UW8prrB/uRR59fLwAAQO0Tf3w3UWC86bmcy20/NMi96gUAAI9qcA8TAADAT0dgAgAA6EFgAgAA6PGJY5gAAAC+B3qYAAAAehCYAAAAehCYAAAAehCYAAAAehCYAAAAehCYAAAAehCYAAAAehCYAAAAehCYAAAAenxiYEoUGI6ior18qHvVCwAAHtWgwFREjgzDqIsT7R9Igv1yI1DS/KMDI1lme9n96m1KokDOri5DThCpIGQBAIATBgUmc5qqjH1JvuJ0un/AnSsPbckOlZdzuc0/OsO96q0VihxD3kp6yUuVZamyzPWilSzLUUJoAgAALYMCk7QNMWt5TqRd1kgCWbOR4nSqno6ebneqt4gmmilUns7l7iox5c5TxX4mb9Lo0QIAALhJYNr0COXjlSZBoiIJ5LxKcX5tD9De7est9HcmhcvTgcudx/KzFeOfAADAgZsEJm3CzYs8Wd5a42Wz92aYm9ZbxFp/OL7J1ZOd6f2/9nIAAPDIbhaYpERvC8m2M63iW3bR3KteAACA89woMBWKHE/rMFeaxhqtJgq6p7Bd4Mb1mp5GWivvzF2J3jNbT7/bywEAwCO7SWBKAkuzUax0akpyNU9fJM8YFm7uUq+pP6E0mzQGkjckgaeFPda085IdAAB4RIMDUxE58tah8nlzKLareR5q7V1/A8l71WtOlwo1k+UEjVsIFEoCR97CVrxs3MYAAABgaGAqIkfWLJOymazm3bWTQIY1U6ZMM+vyHqF71VszNU1LxWPp1dreuNLSq8bK83TYoHIAAPAj/SrLsmov/DcSBcabnq++AWWXe9ULAAAe1aAeJgAAgEfwiT1MAAAA3wM9TAAAAD0ITAAAAD0ITAAAAD0ITAAAAD0ITAAAAD0ITAAAAD0ITD9FEmzuWn79z8b8bIkCo76z+3V3iAcAPLIbBab6t9iczQeSYRhygkRFEclxovbK30yi4DuEEHeusozlt5djw9W8LBXa7eUAAPS7QWBKFDh/lT8vtSxLlZuyfM41mazaKwMAAHw7gwNTEb1KL3NNXVPN36013anSl5GyxrJa3Ru17Yna9UbtHo52PVVOEGz+31GQFCqi7d/te3ySYFOPE0lFpMDZ12s4gZJmz9DJy1b7SzWGEWh/taZQ5BgyDE+LzY/9HrT5RJdTkWzbuy3O4Wvbrbh/jYYTHfXQnar7Iv8lB9vhZBtUKIkCOU5jXziBooMN1lAUipr7zXEUJZGCg212pgv38eaPLmzv4TYwnKCzl/Ds/XaRC9vb56ptpv7zTfWPXTcfr4/Jxrm1LY1rmZdvs/3+cLgmCuA7Ksuyur7klS+7CvP28q4SV75tV2GcHyzP47Cybb+KG8tCW5XkV3FeVmXsV7ZUyQ6rPC+rPLQr2eG+jtivZNuV3a473zzfQfvijjbHla/DNny8fqvEfmVv2rdfnld5uFneXn/zN7L9yrftyt+1O6/C1rY4v8SVL1WyN9ttU1/sq5IfH6+f54ftyuu/9+N2vfX+sMP4YP08Div75DY7r1y0j8sL2ptvjqd8fyzkm2PBbq9/zX47t5zb3gvKZdvs/POtPpdPtC0PK7t9/F+1zfLKt1VJquxTxyKFQqF88TIwMHWFjNMl9lXZ4eGb97bkoX3woR7azTfvVmjJw8puB6b2m/q2tNdt13Ww/NRr6Vq/WT4OOXloH38Qldt2N8PN0NLR1vz8YJOH9sl9dLg/blMu2scd5VR7w6OQ3HyO5nNeud8GlFPtvaRcss0uOd8+XHawH/79NqNQKJSvUAZfkrtEvrY19poX7vZMbyx7nbcXn88ea3qqatPSKHu//LLRJYpYq2wh7+ASxb5Ys0yLt44W2E9yT7X7lkxLo/YySUUUyGletjIcTVbHF1ElaZrmenrbX7pxHEdOEH1wCeb2zmpvEWmVjWSd3KaunpqDvofstzOc1d47uvR8M72x7MVr47Jeob+zTP7LdL/SnbcZAHxVAwPTbz3Za+X/8lPzy/IVNwa9H5W52/6DT1VEjqyV9LLMG+1M9TLumkZmajpPd+umaar0jzRxrhjDdIXL23uu++y3+7X3jsypXvxMq3hzQid/tZCvP0eb4D7bDAC+soGByZQ3lmZ/Oz4yi0hOY1CwNWq8GbcU8UrZyGovPl+2OjHgVVKRa20/qfctvMi1bi87lznV2F7oO32xjldSuJzLNQ97IH4f/KuHOdVY/+Z1n91ec6pxZ4hP9N7s4Lnjfju7vXd0zfnmPvvKZn+VSIpeF7LDPweTOe65zQDgKxsYmCRzmirW69EMmSIJ5FgzjeL5Lqy481ij1URBa6ZQkQSarEaKh3wztUd6nziHs5CKRMFkpfGycUlBrp7sTKt4+46/mc1kzU7M6NOmF625vlQk9Wy85my26TLU2nMURK2ZQkU9227wzLcbs0aZVs2gWySKAkfW7MRWSAIZRj3Dq72PZ5mv5wG77VyXtHe6HGvVOhaKIlHgvB6F4nvtt0vaey9XnW/uH4X2Qq9BoFXm6+XEde7rthmz5AB8c+1BTdeWeuZNPQtGm5lapwfe5lXs2/v1NrNmdjNr8rCe+bN9LMz3s7+2A3Z362wGvMZ+PTA1j3czcbZtODmgurWe7Yf1LKrmc3ywvmz/aOZRvV5ehe3XdmLd2G/U1S7XziCK/YN6dq+ha3nZautmNlUebpa1B9X7YRWH/sE+rmeinWhLX7lmH1/S3rJjn+XbWWat7XzmfrusXNjevnLVNqvb8eH5dqLs2vjRsXjxNtvvD2bJUSiU71h+lWVZtUPUt5MEMl6fVKbNniQAAIDbGHxJDgAA4Kf79oEpCQwZ3kLKZrup2yeHUAAAAFzpZ1ySAwAAuKNv38MEAABwbwQmAACAHgQmAACAHgQmAACAHgQmAACAHp8YmBIFd7kFwL3qBQAAj2pQYCoiZ3PvI0OGE+0fSIL98saP7x4byTr+qaob6K83iQI5uzYacoJIBSELAACcMCgwmdNUZexL8hU3f5bEnSsPbckOlZf7H9/9GuofCPVW0kteqixLlWWuF61kWY5av1MKAAAwLDBJ23C0ludE+18uTwJZs5HidKqejp5/rogmmilUns7l7hpnyp2niv1M3qTRUwYAAHCTwLTpacrHK02CREUSyHmV4vyr9SxJUqG/Mylcng5y7jyWn60Y/wQAAA7cJDBpE5pe5Mny1hovm703X0gRa/3h+CZXT3am9//aywEAwCO7WWCSEr0tJNvOtIrpogEAAD/HjQJTocjxtA5zpWms0WqioHtq3OcxPY20Vt6Z5xK9Z7aefreXAwCAR3aTwJQElmajWOnUlORqnr5InvEFQ5OpP6E0mzQGqDckgaeFPda085IdAAB4RIMDUxE58tah8nlziLereR5q7X29G0ia06VCzWQ5QeMWAoWSwJG3sBUvG7dHAAAAGBqYisiRNcukbCareXftJJBhzZQp08z6aj1NpqZpqXgsvVrbG1daetVYeZ5+zcHqAADgU/0qy7JqL/w3EgXGm55vfmPLe9ULAAAe1aAeJgAAgEfwiT1MAAAA3wM9TAAAAD0ITAAAAD0ITAAAAD0ITAAAAD0ITAAAAD0ITAAAAD0ITAAAAD0+MTAlCoxAt//VlHvVCwAAHtUnBiYAAIDvgcAEAADQg8AEAADQY3BgSgJDhtFdnKjYrFkocpqPeVpoIa+5frAfefT59QIAANQ+8cd3EwXGm57Ludz2Q4Pcq14AAPCoBvcwAQAA/HQEJgAAgB4EJgAAgB6fOIYJAADge6CHCQAAoAeBCQAAoAeBCQAAoAeBCQAAoAeBCQAAoAeBCQAAoAeBCQAAoAeBCQAAoAeBCQAAoMcnBqZEgeEoKtrLh7pXvQAA4FHdLDAlUSDHMGRsihNEKnpDy0iW2V526Jb1FpGzq8dwov0DSbBfbgRKmn8EAAAe3g0CU6HIMeStpJe8VFmWKstcL1rJshwlveGmy+3rNaepytiX5CtOp/sH3Lny0JbsUHk5l9v8IwAA8PAGB6YimmimUHk6l7vr1THlzlPFfiZv0ujJucC96q3D0VqeE2mXuZJA1mykOJ3qRMcUAAB4cAMDU6G/Mylcng4a7jyWn62uGE90r3pr5jRVPl5pEiQqkkDOqxTn9CwBAIDThgWmIta6Y7xQzdWTnen9v/byHveqt8GcpnqRJ8tba7xs9mIBAAAcGhaYvrVEbwvJtjOt4iu7qgAAwEMYFphMTyOtlXfmjUTvma2n3+3lPe5V706hyPG0DnOlaazRaqKAqXEAAKDDsMAkU39CaTZpDKBuSAJPC3us6cWXu+5Vby0JLM1GsdKpKcnVPH2RPIPQBAAAThoYmCRzulSomSwnaEz1L5QEjryFrXjZmL5/gXvVW0SOvHWofN4c4u1qnodae9zwEgAAHBscmCRT07RUPJZere3NHy29aqw8TwcMpr59vUXkyJplUjaT1bwbeBLIsGbKlGlm0dMEAAAO/SrLsmov/DcSBcabnm9+o8h71QsAAB7VDXqYAAAAfrZP7GECAAD4HuhhAgAA6EFgAgAA6EFgAgAA6EFgAgAA6EFgAgAA6EFgAgAA6EFgAgAA6PGJgSlRYAS6/a+Q3KteAADwqD4xMAEAAHwPBCYAAIAeBCYAAIAegwNTEhgyjO7iRMVmzUKR03zM00ILec31g/3Io8+vFwAAoPaJP76bKDDe9FzO5bYfGuRe9QIAgEc1uIcJAADgpyMwAQAA9CAwAQAA9PjEMUwAAADfAz1MAAAAPQhMAAAAPQhMAAAAPQhMAAAAPQhMAAAAPQhMAAAAPQhMAAAAPQhMAAAAPQhMAAAAPT4xMCUKDEdR0V4+1L3qBQAAj2pQYCoiR4Zh1MWJ9g8kwX65EShp/tGBkSyzvex+9TYlUSBnV5chJ4hUELIAAMAJgwKTOU1Vxr4kX3E63T/gzpWHtmSHysu53OYfneFe9dYKRY4hbyW95KXKslRZ5nrRSpblKCE0AQCAlkGBSdqGmLU8J9IuaySBrNlIcTpVT0dPtzvVW0QTzRQqT+dyd5WYcuepYj+TN2n0aAEAANwkMG16hPLxSpMgUZEEcl6lOL+2B2jv9vUW+juTwuXpwOXOY/nZivFPAADgwE0Ckzbh5kWeLG+t8bLZezPMTestYq0/HN/k6snO9P5fezkAAHhkNwtMUqK3hWTbmVbxLbto7lUvAADAeW4UmApFjqd1mCtNY41WEwXdU9gucON6TU8jrZV35q5E75mtp9/t5QAA4JHdJDAlgaXZKFY6NSW5mqcvkmcMCzd3qdfUn1CaTRoDyRuSwNPCHmvaeckOAAA8osGBqYgceetQ+bw5FNvVPA+19q6/geS96jWnS4WayXKCxi0ECiWBI29hK142bmMAAAAwNDAVkSNrlknZTFbz7tpJIMOaKVOmmXV5j9C96q2Zmqal4rH0am1vXGnpVWPleTpsUDkAAPiRfpVlWbUX/huJAuNNz1ffgLLLveoFAACPalAPEwAAwCP4xB4mAACA74EeJgAAgB4EJgAAgB4EJgAAgB4EJgAAgB4EJgAAgB7fIzAlgQwj0FX3qQQA4BQ+W3CBfxeYkmBzV+3rf9ZksK/QhiskwfaO5P1tv2TdYRIFm+e57o7rwL/z784LPLZCSRTI2R1rhpwgOfnbpUMlgSGn60AuIgWOszveg671LlQcvDZHwf73xQ4UkSPjMz8Yil9yjP+TcbL8ujogDwpMkdN8E9p/cLaXG0EiuXOVZSy/Xck53LnKW9y5e0gbPpE7L1WW5Vltv2TdYVzNy1Kh3V6OryVRcJeAcK967+PfnRe4hSLaftgbMpxo/8DuS69xm56hW322bCSBpdf3Zy3zzfGWxxqtPVm3Dg9JIG/h6+XUL8UXkZyJ9CdNN8d8quf3yeAvtkXkyHp/1rLcvralnl5P12tOl/IX3snH/hm7Uln+77DEw247OSgwTdNYvmyFm4Nj+zu507T+dx7akh2qPPgBXQAAupnTVGXsS/IVp40fRHfnu8+V/IZB55ZGz67MbY4xXc2XoezF2/Bw1xC9LmSHf06+/miy0ng5VTNKufMX6TUa0NOV6O9MCv+4+3pNU9OXkRavjUC7Y+pPaGsx6DkHMCul6XE4KvJfkq+T2+0cgwKT5Oqp0cNQfyvYf+v87z2TRtZ+ha3/EgWNXqiuLstLu9HbXaGGEyiJgtNdg2e24VLntqFIWusZzs3acBfF4fYynOCD/VEoCRrfEG+wfZu9ls1u6INj5GAbn9GGk5do95car/0G29VWdX5z3nTj77rQN9u33d1dRLtjJkgOX5/jRK22Fpt2eFpsfqz6YFt077we19R7xr64wG6fO9Hm0kOjDU6g9ma7zJn7ouEzz/muY+2fnheN47I+puvn2C47fUycwZ0rD9fynMaHbhLImo0Up4eB4FJnfbZcdL7V3Pm+42DHtDTSWvmp57hGEWmV2Rp7p7ZAovdsJOvood960krxoDacqlenP+MlmdMX+dlMf09tqCP7zxfn1Of1jcQryX46DlJnK8uyGlJiX5Uf1/8f2qokVXaY7x6THzfWjytfqmT7VZxvl+Un1muXuPJlV+Hub45L7NuV7cdV3liWx35lq133tW3oL2e3IfYr2w6r/OD15FUebpafqLsu/dvhunV7Sh5Wtu1XcV7v17IsqzyPK9+2K1v7/V+XenkY79cty7LK400d7brPLnkV2u3nqsvxvrukDV3bKa58tdc9v3S1tSw321P+4X7O89a/6+P0VB31eVYfa/WyzfFrh0frdr++oeXcei/ZFxeU2K9k25XdrntzXHa364x2X7Av7n/O95UvdF7EfiXbr3zbrvzdc+RVeFT3ZSUPN9s49jfvQ8frXF+6Xue+XHa+nSixX6l9vg8oeWhX6jpmNu8tp7Z313FybslDe/fZvi2xf8a2O+tzNa/8bX44a/0rSv6/ylb1YXv7yk0CU70R6zcV2653ZrnZWIcbuOPg/GAnf/h32xL73Tvl6LGOunrb0FOOnqfrsY/fQPLQ/uCg7mj7yXLJuh+XsPMD6PiDZH88tNfdnOhd2+icEvvHbxR5WNmt13lZG7q20wcfDGeUgzeX2K/U3E4fHStddTTKyTehzuO36/UNLefVe9m+uKDEfqWu58/Dyu78MDuv3e1ycl98tB9vds6fUb7KebEJBrcNNHWJ/Tq0HLdnaOl6nfty2fnWLHkdqG8c8o6DcKN80K52YKq3aXc5PlbyKvTrLylS/V877GhH8zk6z8V/W/KwqmT/72j5JWXgJTnp9/aaXPKmhXy9vIyk7F2JEtVX5E714bWYlkbtZRdI3hayn363F9fc+XljqP5VG4pYq2whr9El3izWLNPi7X5dkhcrIq1OdvHq6JKsJOXrrq5iyfTGstd5e/H53D8KNdOkeenh70yZ/6Lm2Me7tuFMpjVS9v6ftDk2JO3266ljpYgCOQeTJRxNVtnBOk3+c+uYHnj83std94U9PtjvO6alUfZ+8pLJOc7dF6f2486/POe/0nlhP8k9/RQDJHpbSLadaTXsmtLVLj/fEgXGRG9PL0rT+U23Sb5uL7nOfiLE6ZK2Tq4ksPT+nCpNU5Vl/d+lXj+85LrLB19AvJLs8YDLccPHMO0/GJK3heQ/y3Wf5WuhIef/z+crPnGA7so5Ae8hmZq++MpmfzdjGhK9LWyFf77g9nKf5S/eVGze7H3flxZvSlQcfXAVkSNrJb0s88ZxkOpl/HXebB7F/fbFPc/5b3ReXKxQ5Hhah7nSNNZodXpW1tc00vP09vvA+iipdQa5Qu+Zra5836uI9LrwdZQbvbG0ig8XNvz3fvxF41MUv7TKpLHXfuAygwOTfj/JXr8pX29TeN3rsH5701oDdtAF3Gdf2Qc77V84uw3mVGP7GwVKc6qx3TVgse5FbLJG3d8Ci3ilrGOA4NncPwrthSZRoSJ61aL1LVq3akORa9gXOVfP/lpxVPe8Ps//1F8kolirbKTmF/14JYXLudzd1JraPzh17u4m+6JLtuoYrJtrbT9dNRPmkn3xpc75b3NeXCYJLM1G8aa3w9U8fZG873DvN1fzO83i+/1kS+u8Y7KAq2f/xLFWxFrb44P3nYuYlkZXnFP5untQ+L9UxL+U2dXROXGp4YFJkrKFZo306o1tZYuFsq5R9be26ZJuz/Yois1sDee62U4XuaAN02WotecoiFqzU4p6BtJHXZyfYbocazVxDmYKFUWiwHk9evN059tvgYevoUgCTVYjxYO+SavxbXqiyWaaa9tlbXD1ZGdaxdu9s5klZc009LvR7ydpNtv0vMrUsy8tZjNl/vPBDB9rlGnVnEpSJIoCR9ZsaAtUz445eH1SkdQzy4YdZ+fVe9m+uJA90nvruFSRKNhMq77GRfviS53z3+e8OFcROfLWofJWu+Z5vS0Hb7I7as7kvHUzTW8sO+ue8eb+CbV+bc4WLRRNVhq9DJlZ6Op5tGodO4WSv3W9p9VfqI8uZ55031lyt7gcJ91gltx24O/BwK48rGeJNAcibga+bsvBANgTy/PQPhqE1jcgLfbrWVu79Wy78sPGDJaO5+pcfnE5ow3bktcD6A5ek+0fz2C5YDtcsu7FJY93sxikepZhmO9nRh4OQqy3w8Fzt2YSDSv1zKDOgY+bdc5uQ+u12X5YzwLc/Pvq42FzHrSPs+P90DoWNjOZdvtze25tz6tt2b7+vuP31L5rHWdXlbPrvWBfnFs2A51PtaE9wPay8+LMfdFY/9bn/PXlc86LDwcPf9iW7nK4zxqDsvuO9TPK2cfDtedbc5u0B+PfqBxPqGqV7UzNzfbbz1ocVuKweax/XG/+0Wy+o7I/1m4+S+4Gs+O25VdZllU7RAFfW6LAeNVTng7uYsU3lQQyXp9UNm9q+PA4Lx5GEsjwpPhOl/2GKxQYlhSfuC/VN0ZgwrdT36L/ZeBAWXxrBKYjnBePJQkMvT7lR7PZvoKfeiwSmPAtFNGpcSS2Qr5NP5wkMOTVd2rYeNzjgPMC+HcITAAAAD1uM0sOAADgByMwAQAA9CAwAQAA9CAwAQAA9CAwAQAA9PjEwJQoMO5xe/t71QsAAB7VoMBURE79ezmb38zZSYL9cuOj33E7/Vtz96q3KYkCObu6DDlBpIKQBQAAThgUmMxpqjL2JfmKm3fcdefKQ1uyQ+VX3Lr9XvXW6h+79FbSS16qLEuVZa4XrWRZTuMHCwEAAGqDApO0DTFrec1fZU4CWbOR4nTAryPfqd4immimUHk6l7urxJQ7TxX7mbxJo0cLAADgJoFp0yOUj1eaBImKJJDzKsX5tT1Ae7evt9DfmRQuTwcudx7Lz1aMfwIAAAduEpi0CTcv8mR5a42Xzd6bYW5abxFr/eH4JldPdqb3/9rLAQDAI7tZYJISvS0k2860im/ZRXOvegEAAM5zo8BUKHI8rcNcaRprtJoo6J7CdoEb12t6GmmtvDN3JXrPbD39bi8HAACP7CaBKQkszUax0qkpydU8fZE8Y1i4uUu9pv6E0mzSGEjekASeFvZY085LdgAA4BENDkxF5Mhbh8rnzaHYruZ5qLV3/Q0k71WvOV0q1EyWEzRuIVAoCRx5C1vxsnEbAwAAgKGBqYgcWbNMymaymnfXTgIZ1kyZMs2sy3uE7lVvzdQ0LRWPpVdre+NKS68aK8/TYYPKAQDAj/SrLMuqvfDfSBQYb3q++gaUXe5VLwAAeFSDepgAAAAewSf2MAEAAHwP9DABAAD0IDABAAD0IDABAAD0IDABAAD0IDABAAD0IDABAAD0IDABAAD0+MTAlCgwAl316yYfule9AADgUX1iYAIAAPgeCEwAAAA9CEwAAAA9BgemJDBkGN3FiYrNmoUip/mYp4UW8prrB/uRR59fLwAAQO0Tf3w3UWC86bmcy20/NMi96gUAAI9qcA8TAADAT0dgAgAA6EFgAgAA6PGJY5gAAAC+B3qYAAAAehCYAAAAehCYAAAAehCYAAAAehCYAAAAehCYAAAAehCYAAAAehCYAAAAehCYAAAAenxiYEoUGI6ior18qHvVCwAAHtXNAlMSBXIMQ8amOEGkoje0jGSZ7WWHbllvETm7egwn2j+QBPvlRqCk+UcAAODh3SAwFYocQ95KeslLlWWpssz1opUsy1HSG2663L5ec5qqjH1JvuJ0un/AnSsPbckOlZdzuc0/AgAAD29wYCqiiWYKladzubteHVPuPFXsZ/ImjZ6cC9yr3jocreU5kXaZKwlkzUaK06lOdEwBAIAHNzAwFfo7k8Ll6aDhzmP52eqK8UT3qrdmTlPl45UmQaIiCeS8SnFOzxIAADhtWGAqYq07xgvVXD3Zmd7/ay/vca96G8xpqhd5sry1xstmLxYAAMChYYHpW0v0tpBsO9MqvrKrCgAAPIRhgcn0NNJaeWfeSPSe2Xr63V7e41717hSKHE/rMFeaxhqtJgqYGgcAADoMC0wy9SeUZpPGAOqGJPC0sMeaXny561711pLA0mwUK52aklzN0xfJMwhNAADgpIGBSTKnS4WayXKCxlT/QkngyFvYipeN6fsXuFe9ReTIW4fK580h3q7meai1xw0vAQDAscGBSTI1TUvFY+nV2t780dKrxsrzdMBg6tvXW0SOrFkmZTNZzbuBJ4EMa6ZMmWYWPU0AAODQr7Isq/bCfyNRYLzp+eY3irxXvQAA4FHdoIcJAADgZ/vEHiYAAIDvgR4mAACAHgQmAACAHgQmAACAHgQmAACAHgQmAACAHgQmAACAHgQmAACAHp8YmBIFRqDb/wrJveoFAACP6hMDEwAAwPdAYAIAAOhBYAIAAOgxODAlgSHD6C5OVGzWLBQ5zcc8LbSQ11w/2I88+vx6AQAAap/447uJAuNNz+VcbvuhQe5VLwAAeFSDe5gAAAB+OgITAABADwITAABAj08cwwQAAPA90MMEAADQg8AEAADQg8AEAADQg8AEAADQg8AEAADQg8AEAADQg8AEAADQg8AEAADQg8AEAADQ4xMDU6LAcBQV7eVD3ateAADwqAYFpiJyZBhGXZxo/0AS7JcbgZLmHx0YyTLby+5Xb1MSBXJ2dRlygkgFIQsAAJwwKDCZ01Rl7EvyFafT/QPuXHloS3aovJzLbf7RGe5Vb61Q5BjyVtJLXqosS5VlrhetZFmOEkITAABoGRSYpG2IWctzIu2yRhLImo0Up1P1dPR0u1O9RTTRTKHydC53V4kpd54q9jN5k0aPFgAAwE0C06ZHKB+vNAkSFUkg51WK82t7gPZuX2+hvzMpXJ4OXO48lp+tGP8EAAAO3CQwaRNuXuTJ8tYaL5u9N8PctN4i1vrD8U2unuxM7/+1lwMAgEd2s8AkJXpbSLadaRXfsovmXvUCAACc50aBqVDkeFqHudI01mg1UdA9he0CN67X9DTSWnln7kr0ntl6+t1eDgAAHtlNAlMSWJqNYqVTU5KrefoiecawcHOXek39CaXZpDGQvCEJPC3ssaadl+wAAMAjGhyYisiRtw6Vz5tDsV3N81Br7/obSN6rXnO6VKiZLCdo3EKgUBI48ha24mXjNgYAAABDA1MRObJmmZTNZDXvrp0EMqyZMmWaWZf3CN2r3pqpaVoqHkuv1vbGlZZeNVaep8MGlQMAgB/pV1mWVXvhv5EoMN70fPUNKLvcq14AAPCoBvUwAQAAPIJP7GECAAD4HuhhAgAA6EFgAgAA6EFgAgAA6EFgAgAA6EFgAgAA6EFgAgAA6PHYgSkJZBh9dwwvlESBHGN7V3BDTpCc/C06AADwMw0MTIUiZx8kDsrBb7V9X0lg6fX9Wcu8VFmWKvNYo7Un6+OUBQAAfpCBgWnzu2y+ZId5HSi2ZfmsN8vp6b35ZL+fZLeXnTB6dmVuf2POdDVfhrIXb/rKLw0AANzOwMD0AdPVPB9r7QX7y1dFtL+05UT15a7A2S1zdr+yq/2lMMc56LWKWt1WzR6uw7+vf8R3/7fRwWN7tp5+t5ftufNS8/aP0pmWRlor/wE9aAAAoN/9ApMkmVON7YX+brtizKnSslQZ+5LeFTgTvT0v62VlrvHqb6PXxpTr/dEyTQ96rd4966DXapqWCm3Jj0ul0203UM2cpirzULZ85en04LFBkjctNJJ3+HQAAOCHum9gkmSNpPWprphMel6mmru7a12apnMddOaYpg4yienqT2gf1eeNG8vaA7n/e1fmPx/Ws2VaGrWXfWjTI/Yqxfn8dJ0AAODHuXtg6mQ/aZeVOhRRIOdgULmjySprrybTGil7/0+SlLwtJEmLtzoxJW8L2R9dcztbosCY6O3pRWk67207AAD4Oe4emPK1NLIuTxdF5MhaSS/L5mDyVC/jE8O03Wf5izcVSvS2kHzflxZvSlQoX9sad147czUvU7Wu5H1gpOdpe0ATAAD46e4bmIpIq8zXnysyRrySwuVc7m56Wu10X5GrZ3+tOHrTQr6e53/ka6G3KNYqu9VYI1fzsnXJEAAAPIT7BaYiUTBZaRRfN9bHGmVa7UaL1/VFgSNrdnxJTvUdAjSbLST/Wa5MPfvSYjbrHr/UmEXnRP03CEiC/Wy7EyOyAADADzYwMNU3rvQWUjazDm9cOXnbDOrer70LHfUfHK7fumGTO8811mujvlfpeak8tOvnat0mwPTGsiX5z/UTus++JN1o/BIAAHhkv8qyrNoLAQAAsDewhwkAAODnIzABAAD0+H8P/jMd8eKsmAAAAABJRU5ErkJggg==)"
      ],
      "metadata": {
        "id": "YtZUimW1YY6n"
      }
    },
    {
      "cell_type": "markdown",
      "source": [
        "กลับไปแก้ไขโค้ดในฟังก์ชั่น human_move กำจัด input ที่จะรับข้อมูลจากมนุษย์ออกไป และให้ human_move เล่นได้อัตโนมัติและมีความฉลาดเทียบเท่ากับ computer_move"
      ],
      "metadata": {
        "id": "OY-_iu4SYd4c"
      }
    },
    {
      "cell_type": "code",
      "source": [
        "def human_move(board_state):\n",
        "\n",
        "    empty_cells = get_empty_cells(board_state)\n",
        "\n",
        "    # Check if human can win in this move\n",
        "    for cell in empty_cells:\n",
        "        board_copy = board_state.copy()\n",
        "        board_copy[cell] = 'X'\n",
        "        if is_winning(board_copy):\n",
        "            board_state[cell] = 'X'\n",
        "            return\n",
        "\n",
        "    # Check if computer could win next move → block it\n",
        "    for cell in empty_cells:\n",
        "        board_copy = board_state.copy()\n",
        "        board_copy[cell] = 'O'\n",
        "        if is_winning(board_copy):\n",
        "            board_state[cell] = 'X'\n",
        "            return\n",
        "\n",
        "    # Otherwise, choose center if available\n",
        "    if 4 in empty_cells:\n",
        "        board_state[4] = 'X'\n",
        "        return\n",
        "\n",
        "    # Or choose a corner if available\n",
        "    corners = [0, 2, 6, 8]\n",
        "    available_corners = [c for c in corners if c in empty_cells]\n",
        "    if available_corners:\n",
        "        board_state[random.choice(available_corners)] = 'X'\n",
        "        return\n",
        "\n",
        "    # Otherwise pick any remaining side\n",
        "    board_state[random.choice(empty_cells)] = 'X'\n"
      ],
      "metadata": {
        "id": "TP_SmV0kYwBg"
      },
      "execution_count": null,
      "outputs": []
    },
    {
      "cell_type": "markdown",
      "source": [
        "ทดสอบโปรแกรมว่าทำงานได้ถูกต้องโดยจะต้องได้ผลเสมอเท่านั้นไม่ว่าจะเล่นกี่ครั้ง"
      ],
      "metadata": {
        "id": "5_iF0yGUZCSD"
      }
    },
    {
      "cell_type": "markdown",
      "source": [
        "![image.png](data:image/png;base64,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)"
      ],
      "metadata": {
        "id": "8P9B_IuiZFY8"
      }
    },
    {
      "cell_type": "markdown",
      "source": [
        "![image.png](data:image/png;base64,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)"
      ],
      "metadata": {
        "id": "TUIF-7TtZNyv"
      }
    }
  ]
}